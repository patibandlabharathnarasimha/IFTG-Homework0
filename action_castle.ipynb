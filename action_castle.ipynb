{
 "cells": [
  {
   "cell_type": "markdown",
   "metadata": {
    "cell_id": "867a8e40bb704db38e65a6f2cb7bc786",
    "deepnote_cell_type": "markdown"
   },
   "source": [
    "# Homework 0"
   ]
  },
  {
   "cell_type": "markdown",
   "metadata": {
    "cell_id": "b7275d16959f4854a6f3a3fde335f95e",
    "deepnote_cell_type": "markdown"
   },
   "source": [
    "## Action Castle\n",
    "\n",
    "For the first homework, we'll implement a more complicated game based on __Action Castle__, a game in the awesome book\n",
    "[Parsley](http://www.memento-mori.com/parsely-products/parsely-pdf)  by Jared A. Sorensen."
   ]
  },
  {
   "cell_type": "markdown",
   "metadata": {
    "cell_id": "dcad9d79c6ae42a09192133bf68dc3e2",
    "deepnote_cell_type": "markdown"
   },
   "source": [
    "Here's a map of Action Castle.\n",
    "\n",
    "![Map of Action Castle](map.png)"
   ]
  },
  {
   "cell_type": "markdown",
   "metadata": {
    "cell_id": "8757211e68ad4b159c2edab28f4df5b5",
    "deepnote_cell_type": "text-cell-h3",
    "formattedRanges": []
   },
   "source": [
    "### Install required libraries"
   ]
  },
  {
   "cell_type": "code",
   "execution_count": null,
   "metadata": {
    "cell_id": "551a9785080c477cb05e6b53a4115905",
    "deepnote_cell_type": "code",
    "execution_context_id": "34a01435-aabf-4541-a0b3-f587370ebb4d",
    "execution_millis": 4068,
    "execution_start": 1756846634529,
    "source_hash": "7958d4a9"
   },
   "outputs": [],
   "source": [
    "!pip install -r requirements.txt"
   ]
  },
  {
   "cell_type": "markdown",
   "metadata": {
    "cell_id": "e6dec42c32c546e2b793016ae8a36b7c",
    "deepnote_cell_type": "markdown"
   },
   "source": [
    "### Import Text Adventures"
   ]
  },
  {
   "cell_type": "code",
   "execution_count": null,
   "metadata": {
    "cell_id": "10cc3998d9e24c9ea01b2c1f63f63554",
    "deepnote_cell_type": "code",
    "execution_context_id": "05a6250e-add3-4c7f-84a7-e3392d6db98a",
    "execution_millis": 5142,
    "execution_start": 1756843123530,
    "source_hash": "fa5fedf1"
   },
   "outputs": [],
   "source": [
    "from text_adventure_games import (\n",
    "    games, parsing, actions, things, blocks, viz\n",
    ")"
   ]
  },
  {
   "cell_type": "markdown",
   "metadata": {
    "cell_id": "50ca2310bc67431f86650e75cf885511",
    "deepnote_cell_type": "markdown"
   },
   "source": [
    "## Locations"
   ]
  },
  {
   "cell_type": "code",
   "execution_count": null,
   "metadata": {
    "cell_id": "14861fce723644128c48a12cd66e9994",
    "deepnote_cell_type": "code",
    "execution_context_id": "05a6250e-add3-4c7f-84a7-e3392d6db98a",
    "execution_millis": 1,
    "execution_start": 1756843155784,
    "source_hash": "954dee6e"
   },
   "outputs": [],
   "source": [
    "\n",
    "cottage = things.Location(\n",
    "    \"Cottage\",\n",
    "    \"You are standing in a small cottage.\"\n",
    ")\n",
    "garden_path = things.Location(\n",
    "    \"Garden Path\",\n",
    "    \"You are standing on a lush garden path. There is a cottage here.\",\n",
    ")\n",
    "fishing_pond = things.Location(\n",
    "    \"Fishing Pond\",\n",
    "    \"You are at the edge of a small fishing pond.\"\n",
    ")\n",
    "winding_path = things.Location(\n",
    "    \"Winding Path\",\n",
    "    \"You are walking along a winding path. There is a tall tree here.\",\n",
    ")\n",
    "top_of_tree = things.Location(\n",
    "    \"Top of the Tall Tree\",\n",
    "    \"You are the top of the tall tree.\"\n",
    ")\n",
    "drawbridge = things.Location(\n",
    "    \"Drawbridge\",\n",
    "    \"You are standing on one side of a drawbridge leading to ACTION CASTLE.\",\n",
    ")\n",
    "courtyard = things.Location(\n",
    "    \"Courtyard\",\n",
    "    \"You are in the courtyard of ACTION CASTLE.\"\n",
    ")\n",
    "tower_stairs = things.Location(\n",
    "    \"Tower Stairs\",\n",
    "    \"You are climbing the stairs to the tower. There is a locked door here.\",\n",
    ")\n",
    "tower = things.Location(\n",
    "    \"Tower\",\n",
    "    \"You are inside a tower.\"\n",
    ")\n",
    "dungeon_stairs = things.Location(\n",
    "    \"Dungeon Stairs\",\n",
    "    \"You are climbing the stairs down to the dungeon.\"\n",
    ")\n",
    "dungeon = things.Location(\n",
    "    \"Dungeon\",\n",
    "    \"You are in the dungeon. There is a spooky ghost here.\"\n",
    ")\n",
    "feasting_hall = things.Location(\n",
    "    \"Great Feasting Hall\",\n",
    "    \"You stand inside the Great Feasting Hall.\"\n",
    ")\n",
    "throne_room = things.Location(\n",
    "    \"Throne Room\",\n",
    "    \"This is the throne room of ACTION CASTLE.\"\n",
    ")\n",
    "death = things.Location(\n",
    "    \"The Afterlife\",\n",
    "    \"You are dead. GAME OVER.\"\n",
    ")\n",
    "death.set_property(\"game_over\", True)\n",
    "\n",
    "\n",
    "# Map of Locations\n",
    "cottage.add_connection(\"out\", garden_path)\n",
    "garden_path.add_connection(\"south\", fishing_pond)\n",
    "garden_path.add_connection(\"north\", winding_path)\n",
    "winding_path.add_connection(\"up\", top_of_tree)\n",
    "winding_path.add_connection(\"east\", drawbridge)\n",
    "top_of_tree.add_connection(\"jump\", death)\n",
    "drawbridge.add_connection(\"east\", courtyard)\n",
    "courtyard.add_connection(\"up\", tower_stairs)\n",
    "courtyard.add_connection(\"down\", dungeon_stairs)\n",
    "courtyard.add_connection(\"east\", feasting_hall)\n",
    "tower_stairs.add_connection(\"up\", tower)\n",
    "dungeon_stairs.add_connection(\"down\", dungeon)\n",
    "feasting_hall.add_connection(\"east\", throne_room)\n",
    "\n"
   ]
  },
  {
   "cell_type": "markdown",
   "metadata": {
    "cell_id": "3401b9e168a94e60a36fb1eb333feb63",
    "deepnote_cell_type": "markdown"
   },
   "source": [
    "###  Preliminary Game Map\n",
    "\n",
    "Here is a visualization of the locations in action castle represented as a directed graph.\n",
    "\n",
    "![Visualization of game map starting from the tower](../map-from-tower.svg)"
   ]
  },
  {
   "cell_type": "code",
   "execution_count": null,
   "metadata": {
    "cell_id": "ae9ce99bc5734651a8f8c009b5caa8cb",
    "deepnote_cell_type": "code",
    "execution_context_id": "05a6250e-add3-4c7f-84a7-e3392d6db98a",
    "execution_millis": 3776,
    "execution_start": 1756843159284,
    "source_hash": "ea367be7"
   },
   "outputs": [],
   "source": [
    "tempgame = games.Game(tower, things.Character(name=\"Temp Player\", description=\"\", persona=\"\"))\n",
    "\n",
    "from text_adventure_games.viz import Visualizer\n",
    "viz = Visualizer(tempgame)\n",
    "graph = viz.visualize()\n",
    "graph"
   ]
  },
  {
   "cell_type": "markdown",
   "metadata": {
    "cell_id": "e9125705d4d447189056188380bad326",
    "deepnote_cell_type": "markdown"
   },
   "source": [
    "## Items"
   ]
  },
  {
   "cell_type": "markdown",
   "metadata": {
    "cell_id": "2a748aca1b79419584bee6fe26efbf4b",
    "deepnote_cell_type": "markdown"
   },
   "source": [
    "### Gettable Items"
   ]
  },
  {
   "cell_type": "code",
   "execution_count": null,
   "metadata": {
    "cell_id": "b2b43c5ac8c141caaf8a26e1277dd5e3",
    "deepnote_cell_type": "code",
    "execution_context_id": "05a6250e-add3-4c7f-84a7-e3392d6db98a",
    "execution_millis": 1,
    "execution_start": 1756843170060,
    "source_hash": "9ba7096b"
   },
   "outputs": [],
   "source": [
    "# Put a fishing pole at the cottage\n",
    "fishing_pole = things.Item(\n",
    "    \"pole\",\n",
    "    \"a fishing pole\",\n",
    "    \"A SIMPLE FISHING POLE.\",\n",
    ")\n",
    "cottage.add_item(fishing_pole)\n",
    "\n",
    "\n",
    "# Put a branch in a tree that could be used as a weapon\n",
    "branch = things.Item(\n",
    "    \"branch\",\n",
    "    \"a stout, dead branch\",\n",
    "    \"IT LOOKS LIKE IT WOULD MAKE A GOOD CLUB.\",\n",
    ")\n",
    "branch.set_property(\"is_weapon\", True)\n",
    "branch.set_property(\"is_fragile\", True)\n",
    "top_of_tree.add_item(branch)\n",
    "\n",
    "\n",
    "# Put a candle in the feasting hall\n",
    "candle = things.Item(\n",
    "    \"candle\",\n",
    "    \"a strange candle\",\n",
    "    \"THE CANDLE IS COVERED IN STARGE RUNES.\",\n",
    ")\n",
    "candle.set_property(\"is_lightable\", True)\n",
    "candle.set_property(\"is_lit\", False)\n",
    "candle.add_command_hint(\"light candle\")\n",
    "candle.add_command_hint(\"read runes\")\n",
    "feasting_hall.add_item(candle)\n"
   ]
  },
  {
   "cell_type": "markdown",
   "metadata": {
    "cell_id": "ca10b80518f24898a3de41ba23110c8c",
    "deepnote_cell_type": "markdown"
   },
   "source": [
    "### Scenery Items\n",
    "\n",
    "_We called these \"non-gettable\" in the tutorial_"
   ]
  },
  {
   "cell_type": "code",
   "execution_count": null,
   "metadata": {
    "cell_id": "eb554578963147c5a5be627651aa750c",
    "deepnote_cell_type": "code"
   },
   "outputs": [],
   "source": [
    "# Put an actual pond at the fishing location\n",
    "pond = things.Item(\n",
    "    \"pond\",\n",
    "    \"a small fishing pond\",\n",
    "    \"THERE ARE FISH IN THE POND.\",\n",
    ")\n",
    "pond.set_property(\"gettable\", False)\n",
    "pond.set_property(\"has_fish\", True)\n",
    "pond.add_command_hint(\"catch fish\")\n",
    "pond.add_command_hint(\"catch fish with pole\")\n",
    "fishing_pond.add_item(pond)\n",
    "\n",
    "\n",
    "# A nice rosebush for the garden path\n",
    "rosebush = things.Item(\n",
    "    \"rosebush\",\n",
    "    \"a rosebush\",\n",
    "    \"THE ROSEBUSH CONTAINS A SINGLE RED ROSE.  IT IS BEAUTIFUL.\",\n",
    ")\n",
    "rosebush.set_property(\"gettable\", False)\n",
    "rosebush.set_property(\"has_rose\", True)\n",
    "rosebush.add_command_hint(\"pick rose\")\n",
    "garden_path.add_item(rosebush)\n",
    "\n",
    "\n",
    "# Throne room wouldn't be that impressive without a throne\n",
    "throne = things.Item(\n",
    "    \"throne\",\n",
    "    \"An ornate golden throne.\"\n",
    ")\n",
    "throne.set_property(\"gettable\", False)\n",
    "throne.add_command_hint(\"sit on throne\")\n",
    "throne_room.add_item(throne)\n",
    "\n",
    "\n",
    "# A door that leads to the tower stairs\n",
    "door = things.Item(\n",
    "    \"door\",\n",
    "    \"a door\",\n",
    "    \"THE DOOR IS SECURELY LOCKED.\"\n",
    ")\n",
    "door.set_property(\"gettable\", False)\n",
    "door.set_property(\"is_locked\", True)\n",
    "door.add_command_hint(\"unlock door\")\n",
    "tower_stairs.add_item(door)\n"
   ]
  },
  {
   "cell_type": "markdown",
   "metadata": {
    "cell_id": "16195e496d6d451c8a07b08b64c4d00d",
    "deepnote_cell_type": "markdown"
   },
   "source": [
    "## Characters"
   ]
  },
  {
   "cell_type": "markdown",
   "metadata": {
    "cell_id": "8847b906640a4a8599d9ff6ea9e00f58",
    "deepnote_cell_type": "markdown"
   },
   "source": [
    "### Player"
   ]
  },
  {
   "cell_type": "code",
   "execution_count": null,
   "metadata": {
    "cell_id": "02d261beea464307bd88cd3c8586b408",
    "deepnote_cell_type": "code"
   },
   "outputs": [],
   "source": [
    "# Player\n",
    "player = things.Character(\n",
    "    name=\"The player\",\n",
    "    description=\"You are a simple peasant destined for greatness.\",\n",
    "    persona=\"I am on an adventure.\",\n",
    ")\n",
    "\n",
    "# Player's lamp\n",
    "lamp = things.Item(\"lamp\", \"a lamp\", \"A LAMP.\")\n",
    "lamp.set_property(\"is_lightable\", True)\n",
    "lamp.set_property(\"is_lit\", False)\n",
    "lamp.add_command_hint(\"light lamp\")\n",
    "player.add_to_inventory(lamp)\n"
   ]
  },
  {
   "cell_type": "markdown",
   "metadata": {
    "cell_id": "f30c1dd6665b42d58139a5f4cf108670",
    "deepnote_cell_type": "markdown"
   },
   "source": [
    "### Non-Player Characters (NPCs)"
   ]
  },
  {
   "cell_type": "code",
   "execution_count": null,
   "metadata": {
    "cell_id": "4f8092f3247a49ee901325217b53e43e",
    "deepnote_cell_type": "code"
   },
   "outputs": [],
   "source": [
    "# A Troll at the drawbridge\n",
    "troll = things.Character(\n",
    "    name=\"troll\",\n",
    "    description=\"A mean troll\",\n",
    "    persona=\"I am hungry. The guard promised to feed me if I guard the drawbridge and keep people out of the castle.\",\n",
    ")\n",
    "troll.set_property(\"is_hungry\", True)\n",
    "troll.set_property(\"character_type\", \"troll\")\n",
    "drawbridge.add_character(troll)\n",
    "\n",
    "\n",
    "# A guard in the courtyard\n",
    "guard = things.Character(\n",
    "    name=\"guard\",\n",
    "    description=\"A castle guard\",\n",
    "    persona=\"I am suspicious of anyone trying to enter the castle. I will prevent keep people from entering and learning the castle's dark secrets.\",\n",
    ")\n",
    "guard.set_property(\"is_conscious\", True)\n",
    "guard.set_property(\"is_suspicious\", True)\n",
    "guard.set_property(\"character_type\", \"human\")\n",
    "courtyard.add_character(guard)\n",
    "\n",
    "# Guard has a key\n",
    "key = things.Item(\"key\", \"a brass key\", \"THIS LOOKS USEFUL\")\n",
    "guard.add_to_inventory(key)\n",
    "\n",
    "# Guard has a sword\n",
    "sword = things.Item(\"sword\", \"a short sword\", \"A SHARP SHORT SWORD.\")\n",
    "sword.set_property(\"is_weapon\", True)\n",
    "guard.add_to_inventory(sword)\n",
    "\n",
    "\n",
    "# A Princess in the tower\n",
    "princess = things.Character(\n",
    "    name=\"princess\",\n",
    "    description=\"A princess who is beautiful and lonely. She awaits her non-gender-stereotypical soulmate.\",\n",
    "    persona=\"I am the princess. I am grieving my father's death. I feel alone.\",\n",
    ")\n",
    "princess.set_property(\"is_royal\", True)\n",
    "princess.set_property(\"emotional_state\", \"sad and lonely\")\n",
    "princess.set_property(\"is_married\", False)\n",
    "princess.set_property(\"character_type\", \"human\")\n",
    "tower.add_character(princess)\n",
    "\n",
    "\n",
    "# A ghost in the dungeon\n",
    "ghost = things.Character(\n",
    "    name=\"ghost\",\n",
    "    description=\"A ghost with bony, claw-like fingers and who is wearing a crown.\",\n",
    "    persona=\"I was murdered by the guard. I will haunt this castle until banished. If you linger before my apparition, I will plunge my ghostly hand inside you and stop your heart\",\n",
    ")\n",
    "ghost.set_property(\"character_type\", \"ghost\")\n",
    "ghost.set_property(\"is_dead\", True)\n",
    "ghost.set_property(\"is_banished\", False)\n",
    "dungeon.add_character(ghost)\n",
    "\n",
    "# Ghost's crown\n",
    "crown = things.Item(\"crown\", \"a crown\", \"A CROWN FIT FOR A KING.\")\n",
    "crown.add_command_hint(\"wear crown\")\n",
    "ghost.add_to_inventory(crown)\n",
    "\n"
   ]
  },
  {
   "cell_type": "markdown",
   "metadata": {
    "cell_id": "3763a380070d40ccbf593eb086cb9536",
    "deepnote_cell_type": "markdown"
   },
   "source": [
    "## Actions"
   ]
  },
  {
   "cell_type": "markdown",
   "metadata": {
    "cell_id": "769d6c7c43a647a9a72902ac5bad8a2e",
    "deepnote_cell_type": "markdown"
   },
   "source": [
    "Your job in this homework is to put the action in _Action Castle_! We will implement an action for each of the following:\n",
    "\n",
    "- Unlock a door\n",
    "- Read Runes\n",
    "- Propose\n",
    "- Wear the crown\n",
    "- Sit on a throne"
   ]
  },
  {
   "cell_type": "code",
   "execution_count": null,
   "metadata": {},
   "outputs": [],
   "source": [
    "class Unlock_Door(actions.Action):\n",
    "    ACTION_NAME = \"unlock door\"\n",
    "    ACTION_DESCRIPTION = \"Unlock a door with a key\"\n",
    "    ACTION_ALIASES = [\"unlock\"]   # allow shorter command\n",
    "\n",
    "    def __init__(self, game, command):\n",
    "        super().__init__(game)\n",
    "        self.command = command\n",
    "        self.character = game.player                     # main player\n",
    "        self.door = game.world.get_thing(\"tower_door\")   # the locked door Thing\n",
    "        self.key = game.world.get_thing(\"key\")           # the brass key\n",
    "\n",
    "    def check_preconditions(self) -> bool:\n",
    "        \"\"\"\n",
    "        Preconditions:\n",
    "        * There must be a door\n",
    "        * The character must be at the same location as the door\n",
    "        * The door must be locked\n",
    "        * The character must have the key in their inventory\n",
    "        \"\"\"\n",
    "        if not self.door:\n",
    "            self.output(\"There is no door here to unlock.\")\n",
    "            return False\n",
    "\n",
    "        if self.character.location is not self.door.location:\n",
    "            self.output(\"You don't see a door to unlock here.\")\n",
    "            return False\n",
    "\n",
    "        if not self.door.get_property(\"is_locked\"):\n",
    "            self.output(\"The door is already unlocked.\")\n",
    "            return False\n",
    "\n",
    "        if self.key not in self.character.inventory:\n",
    "            self.output(\"You need a key to unlock the door.\")\n",
    "            return False\n",
    "\n",
    "        return True\n",
    "\n",
    "    def apply_effects(self):\n",
    "        \"\"\"\n",
    "        Effects:\n",
    "        * Unlocks the door\n",
    "        \"\"\"\n",
    "        self.door.set_property(\"is_locked\", False)\n",
    "        self.output(\"You unlock the door with the key.\")\n"
   ]
  },
  {
   "cell_type": "code",
   "execution_count": null,
   "metadata": {
    "cell_id": "145446e52e4b4055ad8c572bca945a20",
    "deepnote_cell_type": "code"
   },
   "outputs": [],
   "source": [
    "class Read_Runes(actions.Action):\n",
    "    \"\"\"\n",
    "    Reading the runes on the candle with strange runes on it will banish the\n",
    "    ghost from the dungeon, and cause it to drop the crown.\n",
    "    \"\"\"\n",
    "    ACTION_NAME = \"read runes\"\n",
    "    ACTION_DESCRIPTION = \"Read runes off of the candle\"\n",
    "    ACTION_ALIASES = [\"read\"]   # allow \"read runes\"\n",
    "\n",
    "    def __init__(self, game, command):\n",
    "        super().__init__(game)\n",
    "        self.command = command\n",
    "        self.character: things.Character = game.player\n",
    "        self.candle: things.Item = game.world.get_thing(\"candle\")  # the rune candle\n",
    "        self.ghost: things.Character = game.world.get_character(\"ghost\")\n",
    "\n",
    "    def check_preconditions(self) -> bool:\n",
    "        \"\"\"\n",
    "        Preconditions:\n",
    "        * There must be a candle with strange runes on it\n",
    "        * The character must have the candle in their inventory\n",
    "        * The ghost must be in this location\n",
    "        * The candle must be lit\n",
    "        \"\"\"\n",
    "        if not self.candle:\n",
    "            self.output(\"There are no runes to read.\")\n",
    "            return False\n",
    "\n",
    "        if self.candle not in self.character.inventory:\n",
    "            self.output(\"You must be holding the rune candle to read it.\")\n",
    "            return False\n",
    "\n",
    "        if self.character.location is not self.ghost.location:\n",
    "            self.output(\"There is no ghost here.\")\n",
    "            return False\n",
    "\n",
    "        if not self.candle.get_property(\"is_lit\"):\n",
    "            self.output(\"The candle is not lit; the runes are unreadable in the dark.\")\n",
    "            return False\n",
    "\n",
    "        return True\n",
    "\n",
    "    def apply_effects(self):\n",
    "        \"\"\"\n",
    "        Effects:\n",
    "        * Banishes the ghost, causing it to drop its inventory.\n",
    "        \"\"\"\n",
    "        # Mark ghost as banished\n",
    "        self.ghost.set_property(\"banished\", True)\n",
    "\n",
    "        # Drop everything ghost carries (if your engine supports ghost.inventory)\n",
    "        if hasattr(self.ghost, \"inventory\"):\n",
    "            for item in list(self.ghost.inventory):  # copy to avoid modifying while iterating\n",
    "                self.ghost.inventory.remove(item)\n",
    "                self.character.location.add(item)\n",
    "\n",
    "        self.output(\"You chant the runes. The ghost shrieks, drops its crown, and vanishes!\")\n"
   ]
  },
  {
   "cell_type": "code",
   "execution_count": null,
   "metadata": {
    "cell_id": "dd2351cbc9e54c488c07a81c9939df8c",
    "deepnote_cell_type": "code"
   },
   "outputs": [],
   "source": [
    "class Propose(actions.Action):\n",
    "    \"\"\"\n",
    "    Mawwige is whut bwings us togevveh today.\n",
    "    \"\"\"\n",
    "    ACTION_NAME = \"propose marriage\"\n",
    "    ACTION_DESCRIPTION = \"Propose marriage to someone\"\n",
    "    ACTION_ALIASES = [\"propose\", \"marry\"]\n",
    "\n",
    "    def __init__(self, game, command):\n",
    "        super().__init__(game)\n",
    "        self.command = command\n",
    "        self.proposer: things.Character = game.player\n",
    "        # Assuming the princess is a Character in the world\n",
    "        self.propositioned: things.Character = game.world.get_character(\"princess\")\n",
    "\n",
    "    def check_preconditions(self) -> bool:\n",
    "        \"\"\"\n",
    "        Preconditions:\n",
    "        * The two characters must be in the same place\n",
    "        * Neither can be married yet\n",
    "        * Both must be happy\n",
    "        \"\"\"\n",
    "        if not self.propositioned:\n",
    "            self.output(\"There is no one here to propose to.\")\n",
    "            return False\n",
    "\n",
    "        if self.proposer.location is not self.propositioned.location:\n",
    "            self.output(\"You need to be with her to propose.\")\n",
    "            return False\n",
    "\n",
    "        if self.proposer.get_property(\"is_married\") or self.propositioned.get_property(\"is_married\"):\n",
    "            self.output(\"One of you is already married.\")\n",
    "            return False\n",
    "\n",
    "        if not self.proposer.get_property(\"is_happy\") or not self.propositioned.get_property(\"is_happy\"):\n",
    "            self.output(\"Now is not the right time—someone isn’t happy enough.\")\n",
    "            return False\n",
    "\n",
    "        return True\n",
    "\n",
    "    def apply_effects(self):\n",
    "        \"\"\"\n",
    "        Effects:\n",
    "        * They said \"Yes!\"\n",
    "        * They are married.\n",
    "        * If one is a royal, they are now both royals\n",
    "        \"\"\"\n",
    "        self.proposer.set_property(\"is_married\", True)\n",
    "        self.propositioned.set_property(\"is_married\", True)\n",
    "\n",
    "        # If either is royal, make both royal\n",
    "        if self.proposer.get_property(\"is_royal\") or self.propositioned.get_property(\"is_royal\"):\n",
    "            self.proposer.set_property(\"is_royal\", True)\n",
    "            self.propositioned.set_property(\"is_royal\", True)\n",
    "\n",
    "        self.output(\"The princess accepts your proposal! You are now married and of royal standing.\")\n"
   ]
  },
  {
   "cell_type": "code",
   "execution_count": null,
   "metadata": {
    "cell_id": "3114e42897a443888abb75a9e8be4a1a",
    "deepnote_cell_type": "code"
   },
   "outputs": [],
   "source": [
    "class Wear_Crown(actions.Action):\n",
    "    ACTION_NAME = \"wear crown\"\n",
    "    ACTION_DESCRIPTION = \"Put a crown in your inventory atop your head\"\n",
    "    ACTION_ALIASES = [\"wear\"]\n",
    "\n",
    "    def __init__(self, game, command):\n",
    "        super().__init__(game)\n",
    "        self.command = command\n",
    "        self.character: things.Character = game.player\n",
    "        self.crown: things.Item = game.world.get_thing(\"crown\")\n",
    "\n",
    "    def check_preconditions(self) -> bool:\n",
    "        \"\"\"\n",
    "        Preconditions:\n",
    "        * The crown must be in the character's inventory\n",
    "        * The character must be a royal\n",
    "        \"\"\"\n",
    "        if not self.crown:\n",
    "            self.output(\"There is no crown to wear.\")\n",
    "            return False\n",
    "\n",
    "        if self.crown not in self.character.inventory:\n",
    "            self.output(\"You must have the crown in your possession to wear it.\")\n",
    "            return False\n",
    "\n",
    "        if not self.character.get_property(\"is_royal\"):\n",
    "            self.output(\"Only royalty may wear the crown.\")\n",
    "            return False\n",
    "\n",
    "        if self.crown.get_property(\"is_worn\"):\n",
    "            self.output(\"You are already wearing the crown.\")\n",
    "            return False\n",
    "\n",
    "        return True\n",
    "\n",
    "    def apply_effects(self):\n",
    "        \"\"\"\n",
    "        The character is crowned.\n",
    "        \"\"\"\n",
    "        self.crown.set_property(\"is_worn\", True)\n",
    "        self.character.set_property(\"is_crowned\", True)\n",
    "        self.output(\"You place the crown upon your head. You feel the weight of rule.\")\n"
   ]
  },
  {
   "cell_type": "code",
   "execution_count": null,
   "metadata": {
    "cell_id": "4e3dec2218ff4297a8b7326fe088cedc",
    "deepnote_cell_type": "code"
   },
   "outputs": [],
   "source": [
    "class Sit_On_Throne(actions.Action):\n",
    "    ACTION_NAME = \"sit on throne\"\n",
    "    ACTION_DESCRIPTION = \"Sit on the throne, if you are royalty\"\n",
    "    ACTION_ALIASES = [\"sit\"]\n",
    "\n",
    "    def __init__(self, game, command):\n",
    "        super().__init__(game)\n",
    "        self.command = command\n",
    "        self.character: things.Character = game.player\n",
    "        self.throne: things.Item = game.world.get_thing(\"throne\")\n",
    "\n",
    "    def check_preconditions(self) -> bool:\n",
    "        \"\"\"\n",
    "        Preconditions:\n",
    "        * The character must be in same location as the throne\n",
    "        * The character must be a royal\n",
    "        * The crown must be worn\n",
    "        \"\"\"\n",
    "        if not self.throne:\n",
    "            self.output(\"There is no throne here.\")\n",
    "            return False\n",
    "\n",
    "        if self.character.location is not self.throne.location:\n",
    "            self.output(\"You must be in the throne room to sit on the throne.\")\n",
    "            return False\n",
    "\n",
    "        if not self.character.get_property(\"is_royal\"):\n",
    "            self.output(\"Only royalty may sit upon the throne.\")\n",
    "            return False\n",
    "\n",
    "        if not self.character.get_property(\"is_crowned\"):\n",
    "            self.output(\"You must wear the crown first.\")\n",
    "            return False\n",
    "\n",
    "        return True\n",
    "\n",
    "    def apply_effects(self):\n",
    "        \"\"\"\n",
    "        The character sits on the throne and wins the game.\n",
    "        \"\"\"\n",
    "        self.character.set_property(\"wins\", True)\n",
    "        self.output(\"You sit upon the throne. The court bows before you. (You win!)\")\n"
   ]
  },
  {
   "cell_type": "markdown",
   "metadata": {
    "cell_id": "847a4c897614476195fa6c6c2694f612",
    "deepnote_cell_type": "markdown"
   },
   "source": [
    "## Blocks\n",
    "\n",
    "In text adventure games, _blocks_ are essentially puzzles to unlock the next stage in the game.\n",
    "\n",
    "We give you a `Troll_Block` for an example of what an implementation looks like.\n",
    "\n",
    "You should implement:\n",
    "* The guard block (similar to the troll block)\n",
    "* The darkness block (unblocked if any character at the location is carrying\n",
    "  a lit item (like a lamp or candle)\n",
    "* A locked door block"
   ]
  },
  {
   "cell_type": "code",
   "execution_count": null,
   "metadata": {
    "cell_id": "a188c8e923614437bedd93ea653ff21e",
    "deepnote_cell_type": "code"
   },
   "outputs": [],
   "source": [
    "# Sample Block\n",
    "\n",
    "class Troll_Block(blocks.Block):\n",
    "    \"\"\"\n",
    "    Blocks progress in this direction until the troll is no longer hungry, or\n",
    "    leaves, or is unconscious, or dead.\n",
    "    \"\"\"\n",
    "\n",
    "    def __init__(self, location: things.Location, troll: things.Character):\n",
    "        super().__init__(\n",
    "            \"A troll blocks your way\", \"A hungry troll blocks your way\"\n",
    "        )\n",
    "        self.location = location\n",
    "        self.troll = troll\n",
    "\n",
    "    def is_blocked(self) -> bool:\n",
    "        # Conditions of block:\n",
    "        # * There is a troll here\n",
    "        # * The troll is alive and conscious\n",
    "        # * The troll is still hungry\n",
    "        if self.troll:\n",
    "            if not self.location.here(self.troll):\n",
    "                return False\n",
    "            if self.troll.get_property(\"is_dead\"):\n",
    "                return False\n",
    "            if self.troll.get_property(\"is_unconscious\"):\n",
    "                return False\n",
    "            if self.troll.get_property(\"is_hungry\"):\n",
    "                return True\n",
    "        return False\n"
   ]
  },
  {
   "cell_type": "code",
   "execution_count": null,
   "metadata": {
    "cell_id": "549753bd174640abb617285914ee476b",
    "deepnote_cell_type": "code"
   },
   "outputs": [],
   "source": [
    "class Guard_Block(blocks.Block):\n",
    "    \"\"\"\n",
    "    Blocks progress in this direction until the guard is no longer suspicious, or\n",
    "    leaves, or is unconscious, or dead.\n",
    "    \"\"\"\n",
    "\n",
    "    def __init__(self, location: things.Location, guard: things.Character):\n",
    "        super().__init__(\n",
    "            \"A guard blocks your way\", \n",
    "            \"The guard refuses to let you pass.\"\n",
    "        )\n",
    "        self.location = location\n",
    "        self.guard = guard\n",
    "\n",
    "    def is_blocked(self) -> bool:\n",
    "        # Conditions of block:\n",
    "        # * There is a guard here\n",
    "        # * The guard is alive and conscious\n",
    "        # * The guard is suspicious\n",
    "        g = self.guard\n",
    "        if not g:\n",
    "            return False\n",
    "        if not self.location.here(g):\n",
    "            return False\n",
    "        if g.get_property(\"is_dead\"):\n",
    "            return False\n",
    "        if g.get_property(\"is_unconscious\"):\n",
    "            return False\n",
    "        if g.get_property(\"is_suspicious\"):\n",
    "            return True\n",
    "        return False\n"
   ]
  },
  {
   "cell_type": "code",
   "execution_count": null,
   "metadata": {
    "cell_id": "63eb8e5234a044ce8d76b79e5b8eb574",
    "deepnote_cell_type": "code"
   },
   "outputs": [],
   "source": [
    "class Darkness(blocks.Block):\n",
    "    \"\"\"\n",
    "    Blocks progress in this direction unless the character has something that lights the way.\n",
    "    \"\"\"\n",
    "\n",
    "    def __init__(self, location: things.Location):\n",
    "        super().__init__(\n",
    "            \"Darkness blocks your way\", \n",
    "            \"It's too dark to go that way.\"\n",
    "        )\n",
    "        self.location = location\n",
    "\n",
    "    def is_blocked(self) -> bool:\n",
    "        # Conditions:\n",
    "        # * The location is dark\n",
    "        # * Unblocked if any character here carries a lit item\n",
    "        if not self.location.get_property(\"is_dark\"):\n",
    "            return False\n",
    "\n",
    "        # Check each character in this location\n",
    "        for char in self.location.characters:\n",
    "            for item in char.inventory:\n",
    "                if item.get_property(\"is_light_source\") and item.get_property(\"is_lit\"):\n",
    "                    return False  # someone has light\n",
    "\n",
    "        # Optional: also check if any lit item is lying in the location\n",
    "        for item in self.location.items:\n",
    "            if item.get_property(\"is_light_source\") and item.get_property(\"is_lit\"):\n",
    "                return False\n",
    "\n",
    "        return True\n"
   ]
  },
  {
   "cell_type": "code",
   "execution_count": null,
   "metadata": {
    "cell_id": "0ae76dbb3752445a926c5c43f7a87c0c",
    "collapsed": false,
    "deepnote_cell_type": "code"
   },
   "outputs": [],
   "source": [
    "class Door_Block(blocks.Block):\n",
    "    \"\"\"\n",
    "    Blocks progress in this direction until the character unlocks the door.\n",
    "    \"\"\"\n",
    "\n",
    "    def __init__(self, location: things.Location, door: things.Item):\n",
    "        super().__init__(\n",
    "            \"A locked door blocks your way\", \n",
    "            \"The door ahead is locked.\"\n",
    "        )\n",
    "        self.location = location\n",
    "        self.door = door\n",
    "\n",
    "    def is_blocked(self) -> bool:\n",
    "        # Conditions of block:\n",
    "        # * The door exists\n",
    "        # * The door is at this location (optional, but useful)\n",
    "        # * The door is locked\n",
    "        if not self.door:\n",
    "            return False\n",
    "        if not self.location.here(self.door):\n",
    "            return False\n",
    "        if self.door.get_property(\"is_locked\"):\n",
    "            return True\n",
    "        return False\n"
   ]
  },
  {
   "cell_type": "code",
   "execution_count": null,
   "metadata": {
    "cell_id": "2d083f88ac8c47879487230d5b65af68",
    "deepnote_cell_type": "code"
   },
   "outputs": [],
   "source": [
    "# TODO Add blocks to location to:\n",
    "# * the courtyard - the guard prevents you from going East\n",
    "# * the dungeon_stairs - the darkness prevents you from going Down\n",
    "# * the tower stairs - the locked door prevents you from going Up\n",
    "\n",
    "troll_block = Troll_Block(drawbridge, troll)\n",
    "drawbridge.add_block(\"east\", troll_block)\n"
   ]
  },
  {
   "cell_type": "markdown",
   "metadata": {
    "cell_id": "0b00a9e824174c498979933be7e85271",
    "deepnote_cell_type": "markdown"
   },
   "source": [
    "## Play Action Castle"
   ]
  },
  {
   "cell_type": "code",
   "execution_count": null,
   "metadata": {
    "cell_id": "f1ceb7dc99d64ffcaec51115e68ee5f1",
    "deepnote_cell_type": "code"
   },
   "outputs": [],
   "source": [
    "class ActionCastle(games.Game):\n",
    "    def __init__(\n",
    "        self, start_at: things.Location, player: things.Character, characters=None,\n",
    "        custom_actions=None\n",
    "    ):\n",
    "        super().__init__(start_at, player, characters=characters, custom_actions=custom_actions)\n",
    "\n",
    "    def is_won(self) -> bool:\n",
    "        \"\"\" \n",
    "        Checks whether the game has been won. For Action Castle, the game is won\n",
    "        once any character is sitting on the throne (has the property is_reigning).\n",
    "        \"\"\"\n",
    "        for name, character in self.characters.items():\n",
    "            if character.get_property(\"is_reigning\"):\n",
    "                msg = \"{name} is now reigns in ACTION CASTLE! {name} has won the game!\"\n",
    "                self.parser.ok(msg.format(name=character.name.title()), self)\n",
    "                return True\n",
    "        return False"
   ]
  },
  {
   "cell_type": "code",
   "execution_count": null,
   "metadata": {
    "cell_id": "8f6289e7e9e24a9ebbbbc46d074da315",
    "deepnote_cell_type": "code"
   },
   "outputs": [],
   "source": [
    "\n",
    "characters = [troll, guard, princess, ghost]\n",
    "custom_actions = [Unlock_Door, Read_Runes, Propose, Wear_Crown, Sit_On_Throne]\n",
    "\n",
    "# The Game\n",
    "game = ActionCastle(cottage, player, characters=characters, custom_actions=custom_actions)\n"
   ]
  },
  {
   "cell_type": "code",
   "execution_count": null,
   "metadata": {
    "cell_id": "ae8eaf959fb243c3801feb704c5a079a",
    "deepnote_cell_type": "code"
   },
   "outputs": [],
   "source": [
    "game.game_loop()"
   ]
  },
  {
   "cell_type": "markdown",
   "metadata": {
    "created_in_deepnote_cell": true,
    "deepnote_cell_type": "markdown"
   },
   "source": [
    "<a style='text-decoration:none;line-height:16px;display:flex;color:#5B5B62;padding:10px;justify-content:end;' href='https://deepnote.com?utm_source=created-in-deepnote-cell&projectId=b16fb3c8-85ab-4463-b29e-8658c8738191' target=\"_blank\">\n",
    "<img alt='Created in deepnote.com' style='display:inline;max-height:16px;margin:0px;margin-right:7.5px;' src='data:image/svg+xml;base64,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' > </img>\n",
    "Created in <span style='font-weight:600;margin-left:4px;'>Deepnote</span></a>"
   ]
  }
 ],
 "metadata": {
  "deepnote_notebook_id": "19a566d7cefc417e9ae5625b432a72f9",
  "deepnote_persisted_session": {
   "createdAt": "2025-09-02T20:21:26.212Z"
  },
  "kernelspec": {
   "display_name": "base",
   "language": "python",
   "name": "python3"
  },
  "language_info": {
   "codemirror_mode": {
    "name": "ipython",
    "version": 3
   },
   "file_extension": ".py",
   "mimetype": "text/x-python",
   "name": "python",
   "nbconvert_exporter": "python",
   "pygments_lexer": "ipython3",
   "version": "3.12.4"
  }
 },
 "nbformat": 4,
 "nbformat_minor": 0
}
